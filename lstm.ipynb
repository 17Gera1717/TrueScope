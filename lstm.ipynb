{
 "cells": [
  {
   "cell_type": "code",
   "execution_count": 1,
   "id": "60bd1268",
   "metadata": {},
   "outputs": [
    {
     "name": "stdout",
     "output_type": "stream",
     "text": [
      "Total samples: 224\n",
      "Fake news: 102\n",
      "Real news: 122\n",
      "\n",
      "Sample text:\n",
      "В сети появилась информация о том, что отец осужденного экс-министра Куандыка Бишимбаева - Валихан Бишимбаев - открывает частный вуз в Таразе под брендом Bishimbayev University\n",
      "Vocabulary size: 2512\n",
      "Average sequence length: 24.92737430167598\n",
      "Max sequence length: 61\n",
      "95th percentile length: 42.099999999999994\n"
     ]
    },
    {
     "data": {
      "image/png": "[encoded data removed]",
      "text/plain": [
       "<Figure size 1000x600 with 1 Axes>"
      ]
     },
     "metadata": {},
     "output_type": "display_data"
    },
    {
     "name": "stdout",
     "output_type": "stream",
     "text": [
      "Using device: cuda\n",
      "\n",
      "Epoch 1/50\n"
     ]
    },
    {
     "name": "stderr",
     "output_type": "stream",
     "text": [
      "Training: 100%|██████████| 3/3 [00:00<00:00, 10.95it/s]\n",
      "Evaluating: 100%|██████████| 1/1 [00:00<00:00, 186.14it/s]\n"
     ]
    },
    {
     "name": "stdout",
     "output_type": "stream",
     "text": [
      "\tTrain Loss: 0.6898 | Train Acc: 58.02%\n",
      "\tVal. Loss: 0.6840 | Val. Acc: 51.11%\n",
      "\tBest validation accuracy: 0.5111\n",
      "\n",
      "Epoch 2/50\n"
     ]
    },
    {
     "name": "stderr",
     "output_type": "stream",
     "text": [
      "Training: 100%|██████████| 3/3 [00:00<00:00, 105.64it/s]\n",
      "Evaluating: 100%|██████████| 1/1 [00:00<00:00, 201.92it/s]\n"
     ]
    },
    {
     "name": "stdout",
     "output_type": "stream",
     "text": [
      "\tTrain Loss: 0.6732 | Train Acc: 64.14%\n",
      "\tVal. Loss: 0.6739 | Val. Acc: 51.11%\n",
      "\n",
      "Epoch 3/50\n"
     ]
    },
    {
     "name": "stderr",
     "output_type": "stream",
     "text": [
      "Training: 100%|██████████| 3/3 [00:00<00:00, 106.96it/s]\n",
      "Evaluating: 100%|██████████| 1/1 [00:00<00:00, 201.90it/s]\n"
     ]
    },
    {
     "name": "stdout",
     "output_type": "stream",
     "text": [
      "\tTrain Loss: 0.6549 | Train Acc: 67.15%\n",
      "\tVal. Loss: 0.6543 | Val. Acc: 60.00%\n",
      "\tBest validation accuracy: 0.6000\n",
      "\n",
      "Epoch 4/50\n"
     ]
    },
    {
     "name": "stderr",
     "output_type": "stream",
     "text": [
      "Training: 100%|██████████| 3/3 [00:00<00:00, 106.35it/s]\n",
      "Evaluating: 100%|██████████| 1/1 [00:00<00:00, 201.96it/s]\n"
     ]
    },
    {
     "name": "stdout",
     "output_type": "stream",
     "text": [
      "\tTrain Loss: 0.6230 | Train Acc: 75.62%\n",
      "\tVal. Loss: 0.6176 | Val. Acc: 71.11%\n",
      "\tBest validation accuracy: 0.7111\n",
      "\n",
      "Epoch 5/50\n"
     ]
    },
    {
     "name": "stderr",
     "output_type": "stream",
     "text": [
      "Training: 100%|██████████| 3/3 [00:00<00:00, 106.00it/s]\n",
      "Evaluating: 100%|██████████| 1/1 [00:00<00:00, 201.79it/s]\n"
     ]
    },
    {
     "name": "stdout",
     "output_type": "stream",
     "text": [
      "\tTrain Loss: 0.5672 | Train Acc: 79.91%\n",
      "\tVal. Loss: 0.5743 | Val. Acc: 73.33%\n",
      "\tBest validation accuracy: 0.7333\n",
      "\n",
      "Epoch 6/50\n"
     ]
    },
    {
     "name": "stderr",
     "output_type": "stream",
     "text": [
      "Training: 100%|██████████| 3/3 [00:00<00:00, 106.38it/s]\n",
      "Evaluating: 100%|██████████| 1/1 [00:00<00:00, 204.65it/s]\n"
     ]
    },
    {
     "name": "stdout",
     "output_type": "stream",
     "text": [
      "\tTrain Loss: 0.4792 | Train Acc: 80.44%\n",
      "\tVal. Loss: 0.5876 | Val. Acc: 68.89%\n",
      "\n",
      "Epoch 7/50\n"
     ]
    },
    {
     "name": "stderr",
     "output_type": "stream",
     "text": [
      "Training: 100%|██████████| 3/3 [00:00<00:00, 106.26it/s]\n",
      "Evaluating: 100%|██████████| 1/1 [00:00<00:00, 200.00it/s]\n"
     ]
    },
    {
     "name": "stdout",
     "output_type": "stream",
     "text": [
      "\tTrain Loss: 0.3848 | Train Acc: 83.83%\n",
      "\tVal. Loss: 0.6663 | Val. Acc: 68.89%\n",
      "\n",
      "Epoch 8/50\n"
     ]
    },
    {
     "name": "stderr",
     "output_type": "stream",
     "text": [
      "Training: 100%|██████████| 3/3 [00:00<00:00, 105.94it/s]\n",
      "Evaluating: 100%|██████████| 1/1 [00:00<00:00, 202.17it/s]\n"
     ]
    },
    {
     "name": "stdout",
     "output_type": "stream",
     "text": [
      "\tTrain Loss: 0.3438 | Train Acc: 85.65%\n",
      "\tVal. Loss: 0.6237 | Val. Acc: 75.56%\n",
      "\tBest validation accuracy: 0.7556\n",
      "\n",
      "Epoch 9/50\n"
     ]
    },
    {
     "name": "stderr",
     "output_type": "stream",
     "text": [
      "Training: 100%|██████████| 3/3 [00:00<00:00, 105.99it/s]\n",
      "Evaluating: 100%|██████████| 1/1 [00:00<00:00, 198.81it/s]\n"
     ]
    },
    {
     "name": "stdout",
     "output_type": "stream",
     "text": [
      "\tTrain Loss: 0.3233 | Train Acc: 87.36%\n",
      "\tVal. Loss: 0.8963 | Val. Acc: 66.67%\n",
      "\n",
      "Epoch 10/50\n"
     ]
    },
    {
     "name": "stderr",
     "output_type": "stream",
     "text": [
      "Training: 100%|██████████| 3/3 [00:00<00:00, 106.55it/s]\n",
      "Evaluating: 100%|██████████| 1/1 [00:00<00:00, 169.00it/s]\n"
     ]
    },
    {
     "name": "stdout",
     "output_type": "stream",
     "text": [
      "\tTrain Loss: 0.2495 | Train Acc: 91.66%\n",
      "\tVal. Loss: 1.1185 | Val. Acc: 66.67%\n",
      "\n",
      "Epoch 11/50\n"
     ]
    },
    {
     "name": "stderr",
     "output_type": "stream",
     "text": [
      "Training: 100%|██████████| 3/3 [00:00<00:00, 104.04it/s]\n",
      "Evaluating: 100%|██████████| 1/1 [00:00<00:00, 199.32it/s]\n"
     ]
    },
    {
     "name": "stdout",
     "output_type": "stream",
     "text": [
      "\tTrain Loss: 0.2015 | Train Acc: 94.01%\n",
      "\tVal. Loss: 0.8465 | Val. Acc: 71.11%\n",
      "\n",
      "Epoch 12/50\n"
     ]
    },
    {
     "name": "stderr",
     "output_type": "stream",
     "text": [
      "Training: 100%|██████████| 3/3 [00:00<00:00, 101.50it/s]\n",
      "Evaluating: 100%|██████████| 1/1 [00:00<00:00, 196.27it/s]\n"
     ]
    },
    {
     "name": "stdout",
     "output_type": "stream",
     "text": [
      "\tTrain Loss: 0.1824 | Train Acc: 94.53%\n",
      "\tVal. Loss: 0.8405 | Val. Acc: 73.33%\n",
      "\n",
      "Epoch 13/50\n"
     ]
    },
    {
     "name": "stderr",
     "output_type": "stream",
     "text": [
      "Training: 100%|██████████| 3/3 [00:00<00:00, 105.97it/s]\n",
      "Evaluating: 100%|██████████| 1/1 [00:00<00:00, 194.78it/s]\n"
     ]
    },
    {
     "name": "stdout",
     "output_type": "stream",
     "text": [
      "\tTrain Loss: 0.1509 | Train Acc: 96.09%\n",
      "\tVal. Loss: 1.1003 | Val. Acc: 68.89%\n",
      "\n",
      "Epoch 14/50\n"
     ]
    },
    {
     "name": "stderr",
     "output_type": "stream",
     "text": [
      "Training: 100%|██████████| 3/3 [00:00<00:00, 106.34it/s]\n",
      "Evaluating: 100%|██████████| 1/1 [00:00<00:00, 197.86it/s]\n"
     ]
    },
    {
     "name": "stdout",
     "output_type": "stream",
     "text": [
      "\tTrain Loss: 0.1198 | Train Acc: 97.26%\n",
      "\tVal. Loss: 1.5437 | Val. Acc: 60.00%\n",
      "\n",
      "Epoch 15/50\n"
     ]
    },
    {
     "name": "stderr",
     "output_type": "stream",
     "text": [
      "Training: 100%|██████████| 3/3 [00:00<00:00, 105.05it/s]\n",
      "Evaluating: 100%|██████████| 1/1 [00:00<00:00, 205.00it/s]\n"
     ]
    },
    {
     "name": "stdout",
     "output_type": "stream",
     "text": [
      "\tTrain Loss: 0.1049 | Train Acc: 97.00%\n",
      "\tVal. Loss: 1.9955 | Val. Acc: 53.33%\n",
      "\n",
      "Epoch 16/50\n"
     ]
    },
    {
     "name": "stderr",
     "output_type": "stream",
     "text": [
      "Training: 100%|██████████| 3/3 [00:00<00:00, 104.79it/s]\n",
      "Evaluating: 100%|██████████| 1/1 [00:00<00:00, 201.64it/s]\n"
     ]
    },
    {
     "name": "stdout",
     "output_type": "stream",
     "text": [
      "\tTrain Loss: 0.0695 | Train Acc: 98.30%\n",
      "\tVal. Loss: 2.3587 | Val. Acc: 53.33%\n",
      "\n",
      "Epoch 17/50\n"
     ]
    },
    {
     "name": "stderr",
     "output_type": "stream",
     "text": [
      "Training: 100%|██████████| 3/3 [00:00<00:00, 104.46it/s]\n",
      "Evaluating: 100%|██████████| 1/1 [00:00<00:00, 199.55it/s]\n"
     ]
    },
    {
     "name": "stdout",
     "output_type": "stream",
     "text": [
      "\tTrain Loss: 0.0725 | Train Acc: 98.30%\n",
      "\tVal. Loss: 2.4006 | Val. Acc: 53.33%\n",
      "\n",
      "Epoch 18/50\n"
     ]
    },
    {
     "name": "stderr",
     "output_type": "stream",
     "text": [
      "Training: 100%|██████████| 3/3 [00:00<00:00, 105.02it/s]\n",
      "Evaluating: 100%|██████████| 1/1 [00:00<00:00, 201.79it/s]\n"
     ]
    },
    {
     "name": "stdout",
     "output_type": "stream",
     "text": [
      "\tTrain Loss: 0.0304 | Train Acc: 100.00%\n",
      "\tVal. Loss: 2.6353 | Val. Acc: 51.11%\n",
      "\n",
      "Epoch 19/50\n"
     ]
    },
    {
     "name": "stderr",
     "output_type": "stream",
     "text": [
      "Training: 100%|██████████| 3/3 [00:00<00:00, 105.61it/s]\n",
      "Evaluating: 100%|██████████| 1/1 [00:00<00:00, 203.29it/s]\n"
     ]
    },
    {
     "name": "stdout",
     "output_type": "stream",
     "text": [
      "\tTrain Loss: 0.0219 | Train Acc: 100.00%\n",
      "\tVal. Loss: 2.6714 | Val. Acc: 51.11%\n",
      "\n",
      "Epoch 20/50\n"
     ]
    },
    {
     "name": "stderr",
     "output_type": "stream",
     "text": [
      "Training: 100%|██████████| 3/3 [00:00<00:00, 106.09it/s]\n",
      "Evaluating: 100%|██████████| 1/1 [00:00<00:00, 202.79it/s]\n"
     ]
    },
    {
     "name": "stdout",
     "output_type": "stream",
     "text": [
      "\tTrain Loss: 0.0127 | Train Acc: 100.00%\n",
      "\tVal. Loss: 2.8992 | Val. Acc: 51.11%\n",
      "\n",
      "Epoch 21/50\n"
     ]
    },
    {
     "name": "stderr",
     "output_type": "stream",
     "text": [
      "Training: 100%|██████████| 3/3 [00:00<00:00, 105.94it/s]\n",
      "Evaluating: 100%|██████████| 1/1 [00:00<00:00, 203.75it/s]\n"
     ]
    },
    {
     "name": "stdout",
     "output_type": "stream",
     "text": [
      "\tTrain Loss: 0.0089 | Train Acc: 100.00%\n",
      "\tVal. Loss: 2.9810 | Val. Acc: 48.89%\n",
      "\n",
      "Epoch 22/50\n"
     ]
    },
    {
     "name": "stderr",
     "output_type": "stream",
     "text": [
      "Training: 100%|██████████| 3/3 [00:00<00:00, 105.92it/s]\n",
      "Evaluating: 100%|██████████| 1/1 [00:00<00:00, 201.78it/s]\n"
     ]
    },
    {
     "name": "stdout",
     "output_type": "stream",
     "text": [
      "\tTrain Loss: 0.0069 | Train Acc: 100.00%\n",
      "\tVal. Loss: 2.8794 | Val. Acc: 53.33%\n",
      "\n",
      "Epoch 23/50\n"
     ]
    },
    {
     "name": "stderr",
     "output_type": "stream",
     "text": [
      "Training: 100%|██████████| 3/3 [00:00<00:00, 106.62it/s]\n",
      "Evaluating: 100%|██████████| 1/1 [00:00<00:00, 198.89it/s]\n"
     ]
    },
    {
     "name": "stdout",
     "output_type": "stream",
     "text": [
      "\tTrain Loss: 0.0048 | Train Acc: 100.00%\n",
      "\tVal. Loss: 2.8927 | Val. Acc: 55.56%\n",
      "\n",
      "Epoch 24/50\n"
     ]
    },
    {
     "name": "stderr",
     "output_type": "stream",
     "text": [
      "Training: 100%|██████████| 3/3 [00:00<00:00, 106.58it/s]\n",
      "Evaluating: 100%|██████████| 1/1 [00:00<00:00, 201.91it/s]\n"
     ]
    },
    {
     "name": "stdout",
     "output_type": "stream",
     "text": [
      "\tTrain Loss: 0.0032 | Train Acc: 100.00%\n",
      "\tVal. Loss: 2.8909 | Val. Acc: 55.56%\n",
      "\n",
      "Epoch 25/50\n"
     ]
    },
    {
     "name": "stderr",
     "output_type": "stream",
     "text": [
      "Training: 100%|██████████| 3/3 [00:00<00:00, 106.32it/s]\n",
      "Evaluating: 100%|██████████| 1/1 [00:00<00:00, 203.16it/s]\n"
     ]
    },
    {
     "name": "stdout",
     "output_type": "stream",
     "text": [
      "\tTrain Loss: 0.0029 | Train Acc: 100.00%\n",
      "\tVal. Loss: 2.8959 | Val. Acc: 55.56%\n",
      "\n",
      "Epoch 26/50\n"
     ]
    },
    {
     "name": "stderr",
     "output_type": "stream",
     "text": [
      "Training: 100%|██████████| 3/3 [00:00<00:00, 106.52it/s]\n",
      "Evaluating: 100%|██████████| 1/1 [00:00<00:00, 199.59it/s]\n"
     ]
    },
    {
     "name": "stdout",
     "output_type": "stream",
     "text": [
      "\tTrain Loss: 0.0028 | Train Acc: 100.00%\n",
      "\tVal. Loss: 2.9558 | Val. Acc: 55.56%\n",
      "\n",
      "Epoch 27/50\n"
     ]
    },
    {
     "name": "stderr",
     "output_type": "stream",
     "text": [
      "Training: 100%|██████████| 3/3 [00:00<00:00, 105.57it/s]\n",
      "Evaluating: 100%|██████████| 1/1 [00:00<00:00, 199.66it/s]\n"
     ]
    },
    {
     "name": "stdout",
     "output_type": "stream",
     "text": [
      "\tTrain Loss: 0.0022 | Train Acc: 100.00%\n",
      "\tVal. Loss: 3.0564 | Val. Acc: 55.56%\n",
      "\n",
      "Epoch 28/50\n"
     ]
    },
    {
     "name": "stderr",
     "output_type": "stream",
     "text": [
      "Training: 100%|██████████| 3/3 [00:00<00:00, 105.39it/s]\n",
      "Evaluating: 100%|██████████| 1/1 [00:00<00:00, 199.34it/s]\n"
     ]
    },
    {
     "name": "stdout",
     "output_type": "stream",
     "text": [
      "\tTrain Loss: 0.0019 | Train Acc: 100.00%\n",
      "\tVal. Loss: 3.1847 | Val. Acc: 53.33%\n",
      "\n",
      "Epoch 29/50\n"
     ]
    },
    {
     "name": "stderr",
     "output_type": "stream",
     "text": [
      "Training: 100%|██████████| 3/3 [00:00<00:00, 105.54it/s]\n",
      "Evaluating: 100%|██████████| 1/1 [00:00<00:00, 201.74it/s]\n"
     ]
    },
    {
     "name": "stdout",
     "output_type": "stream",
     "text": [
      "\tTrain Loss: 0.0020 | Train Acc: 100.00%\n",
      "\tVal. Loss: 3.1772 | Val. Acc: 53.33%\n",
      "\n",
      "Epoch 30/50\n"
     ]
    },
    {
     "name": "stderr",
     "output_type": "stream",
     "text": [
      "Training: 100%|██████████| 3/3 [00:00<00:00, 106.09it/s]\n",
      "Evaluating: 100%|██████████| 1/1 [00:00<00:00, 199.51it/s]\n"
     ]
    },
    {
     "name": "stdout",
     "output_type": "stream",
     "text": [
      "\tTrain Loss: 0.0018 | Train Acc: 100.00%\n",
      "\tVal. Loss: 3.1298 | Val. Acc: 55.56%\n",
      "\n",
      "Epoch 31/50\n"
     ]
    },
    {
     "name": "stderr",
     "output_type": "stream",
     "text": [
      "Training: 100%|██████████| 3/3 [00:00<00:00, 106.09it/s]\n",
      "Evaluating: 100%|██████████| 1/1 [00:00<00:00, 195.10it/s]\n"
     ]
    },
    {
     "name": "stdout",
     "output_type": "stream",
     "text": [
      "\tTrain Loss: 0.0015 | Train Acc: 100.00%\n",
      "\tVal. Loss: 3.1358 | Val. Acc: 55.56%\n",
      "\n",
      "Epoch 32/50\n"
     ]
    },
    {
     "name": "stderr",
     "output_type": "stream",
     "text": [
      "Training: 100%|██████████| 3/3 [00:00<00:00, 107.01it/s]\n",
      "Evaluating: 100%|██████████| 1/1 [00:00<00:00, 206.55it/s]\n"
     ]
    },
    {
     "name": "stdout",
     "output_type": "stream",
     "text": [
      "\tTrain Loss: 0.0015 | Train Acc: 100.00%\n",
      "\tVal. Loss: 3.1513 | Val. Acc: 55.56%\n",
      "\n",
      "Epoch 33/50\n"
     ]
    },
    {
     "name": "stderr",
     "output_type": "stream",
     "text": [
      "Training: 100%|██████████| 3/3 [00:00<00:00, 105.88it/s]\n",
      "Evaluating: 100%|██████████| 1/1 [00:00<00:00, 188.64it/s]\n"
     ]
    },
    {
     "name": "stdout",
     "output_type": "stream",
     "text": [
      "\tTrain Loss: 0.0013 | Train Acc: 100.00%\n",
      "\tVal. Loss: 3.2271 | Val. Acc: 55.56%\n",
      "\n",
      "Epoch 34/50\n"
     ]
    },
    {
     "name": "stderr",
     "output_type": "stream",
     "text": [
      "Training: 100%|██████████| 3/3 [00:00<00:00, 104.98it/s]\n",
      "Evaluating: 100%|██████████| 1/1 [00:00<00:00, 201.13it/s]\n"
     ]
    },
    {
     "name": "stdout",
     "output_type": "stream",
     "text": [
      "\tTrain Loss: 0.0013 | Train Acc: 100.00%\n",
      "\tVal. Loss: 3.2463 | Val. Acc: 55.56%\n",
      "\n",
      "Epoch 35/50\n"
     ]
    },
    {
     "name": "stderr",
     "output_type": "stream",
     "text": [
      "Training: 100%|██████████| 3/3 [00:00<00:00, 106.13it/s]\n",
      "Evaluating: 100%|██████████| 1/1 [00:00<00:00, 201.54it/s]\n"
     ]
    },
    {
     "name": "stdout",
     "output_type": "stream",
     "text": [
      "\tTrain Loss: 0.0012 | Train Acc: 100.00%\n",
      "\tVal. Loss: 3.2661 | Val. Acc: 55.56%\n",
      "\n",
      "Epoch 36/50\n"
     ]
    },
    {
     "name": "stderr",
     "output_type": "stream",
     "text": [
      "Training: 100%|██████████| 3/3 [00:00<00:00, 106.12it/s]\n",
      "Evaluating: 100%|██████████| 1/1 [00:00<00:00, 201.51it/s]\n"
     ]
    },
    {
     "name": "stdout",
     "output_type": "stream",
     "text": [
      "\tTrain Loss: 0.0011 | Train Acc: 100.00%\n",
      "\tVal. Loss: 3.2864 | Val. Acc: 55.56%\n",
      "\n",
      "Epoch 37/50\n"
     ]
    },
    {
     "name": "stderr",
     "output_type": "stream",
     "text": [
      "Training: 100%|██████████| 3/3 [00:00<00:00, 106.10it/s]\n",
      "Evaluating: 100%|██████████| 1/1 [00:00<00:00, 201.42it/s]\n"
     ]
    },
    {
     "name": "stdout",
     "output_type": "stream",
     "text": [
      "\tTrain Loss: 0.0011 | Train Acc: 100.00%\n",
      "\tVal. Loss: 3.3061 | Val. Acc: 55.56%\n",
      "\n",
      "Epoch 38/50\n"
     ]
    },
    {
     "name": "stderr",
     "output_type": "stream",
     "text": [
      "Training: 100%|██████████| 3/3 [00:00<00:00, 105.71it/s]\n",
      "Evaluating: 100%|██████████| 1/1 [00:00<00:00, 200.72it/s]\n"
     ]
    },
    {
     "name": "stdout",
     "output_type": "stream",
     "text": [
      "\tTrain Loss: 0.0012 | Train Acc: 100.00%\n",
      "\tVal. Loss: 3.3251 | Val. Acc: 55.56%\n",
      "\n",
      "Epoch 39/50\n"
     ]
    },
    {
     "name": "stderr",
     "output_type": "stream",
     "text": [
      "Training: 100%|██████████| 3/3 [00:00<00:00, 105.47it/s]\n",
      "Evaluating: 100%|██████████| 1/1 [00:00<00:00, 202.23it/s]\n"
     ]
    },
    {
     "name": "stdout",
     "output_type": "stream",
     "text": [
      "\tTrain Loss: 0.0009 | Train Acc: 100.00%\n",
      "\tVal. Loss: 3.3436 | Val. Acc: 55.56%\n",
      "\n",
      "Epoch 40/50\n"
     ]
    },
    {
     "name": "stderr",
     "output_type": "stream",
     "text": [
      "Training: 100%|██████████| 3/3 [00:00<00:00, 106.49it/s]\n",
      "Evaluating: 100%|██████████| 1/1 [00:00<00:00, 200.39it/s]\n"
     ]
    },
    {
     "name": "stdout",
     "output_type": "stream",
     "text": [
      "\tTrain Loss: 0.0010 | Train Acc: 100.00%\n",
      "\tVal. Loss: 3.3612 | Val. Acc: 55.56%\n",
      "\n",
      "Epoch 41/50\n"
     ]
    },
    {
     "name": "stderr",
     "output_type": "stream",
     "text": [
      "Training: 100%|██████████| 3/3 [00:00<00:00, 106.01it/s]\n",
      "Evaluating: 100%|██████████| 1/1 [00:00<00:00, 197.43it/s]\n"
     ]
    },
    {
     "name": "stdout",
     "output_type": "stream",
     "text": [
      "\tTrain Loss: 0.0009 | Train Acc: 100.00%\n",
      "\tVal. Loss: 3.3782 | Val. Acc: 55.56%\n",
      "\n",
      "Epoch 42/50\n"
     ]
    },
    {
     "name": "stderr",
     "output_type": "stream",
     "text": [
      "Training: 100%|██████████| 3/3 [00:00<00:00, 105.98it/s]\n",
      "Evaluating: 100%|██████████| 1/1 [00:00<00:00, 202.70it/s]\n"
     ]
    },
    {
     "name": "stdout",
     "output_type": "stream",
     "text": [
      "\tTrain Loss: 0.0008 | Train Acc: 100.00%\n",
      "\tVal. Loss: 3.3951 | Val. Acc: 55.56%\n",
      "\n",
      "Epoch 43/50\n"
     ]
    },
    {
     "name": "stderr",
     "output_type": "stream",
     "text": [
      "Training: 100%|██████████| 3/3 [00:00<00:00, 107.02it/s]\n",
      "Evaluating: 100%|██████████| 1/1 [00:00<00:00, 200.57it/s]\n"
     ]
    },
    {
     "name": "stdout",
     "output_type": "stream",
     "text": [
      "\tTrain Loss: 0.0008 | Train Acc: 100.00%\n",
      "\tVal. Loss: 3.4109 | Val. Acc: 55.56%\n",
      "\n",
      "Epoch 44/50\n"
     ]
    },
    {
     "name": "stderr",
     "output_type": "stream",
     "text": [
      "Training: 100%|██████████| 3/3 [00:00<00:00, 107.29it/s]\n",
      "Evaluating: 100%|██████████| 1/1 [00:00<00:00, 205.54it/s]\n"
     ]
    },
    {
     "name": "stdout",
     "output_type": "stream",
     "text": [
      "\tTrain Loss: 0.0008 | Train Acc: 100.00%\n",
      "\tVal. Loss: 3.4265 | Val. Acc: 55.56%\n",
      "\n",
      "Epoch 45/50\n"
     ]
    },
    {
     "name": "stderr",
     "output_type": "stream",
     "text": [
      "Training: 100%|██████████| 3/3 [00:00<00:00, 105.49it/s]\n",
      "Evaluating: 100%|██████████| 1/1 [00:00<00:00, 205.91it/s]\n"
     ]
    },
    {
     "name": "stdout",
     "output_type": "stream",
     "text": [
      "\tTrain Loss: 0.0008 | Train Acc: 100.00%\n",
      "\tVal. Loss: 3.4410 | Val. Acc: 55.56%\n",
      "\n",
      "Epoch 46/50\n"
     ]
    },
    {
     "name": "stderr",
     "output_type": "stream",
     "text": [
      "Training: 100%|██████████| 3/3 [00:00<00:00, 105.79it/s]\n",
      "Evaluating: 100%|██████████| 1/1 [00:00<00:00, 201.57it/s]\n"
     ]
    },
    {
     "name": "stdout",
     "output_type": "stream",
     "text": [
      "\tTrain Loss: 0.0008 | Train Acc: 100.00%\n",
      "\tVal. Loss: 3.4558 | Val. Acc: 55.56%\n",
      "\n",
      "Epoch 47/50\n"
     ]
    },
    {
     "name": "stderr",
     "output_type": "stream",
     "text": [
      "Training: 100%|██████████| 3/3 [00:00<00:00, 105.55it/s]\n",
      "Evaluating: 100%|██████████| 1/1 [00:00<00:00, 202.72it/s]\n"
     ]
    },
    {
     "name": "stdout",
     "output_type": "stream",
     "text": [
      "\tTrain Loss: 0.0007 | Train Acc: 100.00%\n",
      "\tVal. Loss: 3.4708 | Val. Acc: 55.56%\n",
      "\n",
      "Epoch 48/50\n"
     ]
    },
    {
     "name": "stderr",
     "output_type": "stream",
     "text": [
      "Training: 100%|██████████| 3/3 [00:00<00:00, 105.55it/s]\n",
      "Evaluating: 100%|██████████| 1/1 [00:00<00:00, 189.74it/s]\n"
     ]
    },
    {
     "name": "stdout",
     "output_type": "stream",
     "text": [
      "\tTrain Loss: 0.0008 | Train Acc: 100.00%\n",
      "\tVal. Loss: 3.4856 | Val. Acc: 55.56%\n",
      "\n",
      "Epoch 49/50\n"
     ]
    },
    {
     "name": "stderr",
     "output_type": "stream",
     "text": [
      "Training: 100%|██████████| 3/3 [00:00<00:00, 105.58it/s]\n",
      "Evaluating: 100%|██████████| 1/1 [00:00<00:00, 200.86it/s]\n"
     ]
    },
    {
     "name": "stdout",
     "output_type": "stream",
     "text": [
      "\tTrain Loss: 0.0007 | Train Acc: 100.00%\n",
      "\tVal. Loss: 3.4993 | Val. Acc: 55.56%\n",
      "\n",
      "Epoch 50/50\n"
     ]
    },
    {
     "name": "stderr",
     "output_type": "stream",
     "text": [
      "Training: 100%|██████████| 3/3 [00:00<00:00, 106.17it/s]\n",
      "Evaluating: 100%|██████████| 1/1 [00:00<00:00, 202.62it/s]\n"
     ]
    },
    {
     "name": "stdout",
     "output_type": "stream",
     "text": [
      "\tTrain Loss: 0.0007 | Train Acc: 100.00%\n",
      "\tVal. Loss: 3.5127 | Val. Acc: 55.56%\n"
     ]
    },
    {
     "data": {
      "image/png": "[encoded data removed]",
      "text/plain": [
       "<Figure size 1200x500 with 2 Axes>"
      ]
     },
     "metadata": {},
     "output_type": "display_data"
    },
    {
     "name": "stderr",
     "output_type": "stream",
     "text": [
      "Evaluating: 100%|██████████| 1/1 [00:00<00:00, 185.33it/s]"
     ]
    },
    {
     "name": "stdout",
     "output_type": "stream",
     "text": [
      "Test Loss: 0.6237 | Test Acc: 75.56%\n",
      "\n",
      "Classification Report:\n",
      "              precision    recall  f1-score   support\n",
      "\n",
      "         0.0       0.67      1.00      0.80        22\n",
      "         1.0       1.00      0.52      0.69        23\n",
      "\n",
      "    accuracy                           0.76        45\n",
      "   macro avg       0.83      0.76      0.74        45\n",
      "weighted avg       0.84      0.76      0.74        45\n",
      "\n"
     ]
    },
    {
     "name": "stderr",
     "output_type": "stream",
     "text": [
      "\n"
     ]
    },
    {
     "data": {
      "image/png": "[encoded data removed]",
      "text/plain": [
       "<Figure size 800x600 with 2 Axes>"
      ]
     },
     "metadata": {},
     "output_type": "display_data"
    },
    {
     "name": "stdout",
     "output_type": "stream",
     "text": [
      "\n",
      "Text: \"В социальных сетях распространяются жуткие видеокадры якобы из Тараза, на которых запечатлено тело ...\n",
      "Prediction: REAL\n",
      "Probability of being fake: 0.2452\n",
      "\n",
      "Text: This is a completely fabricated story with false information...\n",
      "Prediction: REAL\n",
      "Probability of being fake: 0.0539\n",
      "\n",
      "Text: Scientists discover new evidence supporting established theories...\n",
      "Prediction: REAL\n",
      "Probability of being fake: 0.0548\n"
     ]
    }
   ],
   "source": [
    "# LSTM_FakeNews_Classification.ipynb\n",
    "\n",
    "import pandas as pd\n",
    "import numpy as np\n",
    "import matplotlib.pyplot as plt\n",
    "import seaborn as sns\n",
    "from sklearn.model_selection import train_test_split\n",
    "from sklearn.metrics import classification_report, confusion_matrix, accuracy_score\n",
    "import torch\n",
    "import torch.nn as nn\n",
    "import torch.optim as optim\n",
    "from torch.utils.data import Dataset, DataLoader\n",
    "import pickle\n",
    "from tqdm import tqdm\n",
    "\n",
    "# Set random seeds for reproducibility\n",
    "torch.manual_seed(42)\n",
    "np.random.seed(42)\n",
    "\n",
    "# Load the dataset\n",
    "df = pd.read_csv(\"Dataset_With_Core_Fake_Claim_Formatted.csv\")\n",
    "\n",
    "# Data preprocessing\n",
    "df['text'] = df.apply(lambda row: row['CORE_FAKE_CLAIM'] if row['TYPE'] == 'fake_pair' else str(row['REAL_TEXT']).strip(), axis=1)\n",
    "df['label'] = df['TYPE'].apply(lambda x: 1 if x == 'fake_pair' else 0)\n",
    "\n",
    "# Display some information about the dataset\n",
    "print(f\"Total samples: {len(df)}\")\n",
    "print(f\"Fake news: {len(df[df['label'] == 1])}\")\n",
    "print(f\"Real news: {len(df[df['label'] == 0])}\")\n",
    "print(\"\\nSample text:\")\n",
    "print(df['text'].iloc[0])\n",
    "\n",
    "# Split the data\n",
    "X_train, X_test, y_train, y_test = train_test_split(df['text'], df['label'], test_size=0.2, random_state=42)\n",
    "\n",
    "# Build vocabulary\n",
    "def build_vocab(texts, max_features=10000):\n",
    "    word_counts = {}\n",
    "    for text in texts:\n",
    "        for word in text.lower().split():\n",
    "            word_counts[word] = word_counts.get(word, 0) + 1\n",
    "    \n",
    "    # Sort words by frequency and limit vocabulary size\n",
    "    word_counts = sorted(word_counts.items(), key=lambda x: x[1], reverse=True)[:max_features-2]  # -2 for <PAD> and <UNK>\n",
    "    \n",
    "    # Build word_to_index mapping\n",
    "    word_to_idx = {'<PAD>': 0, '<UNK>': 1}\n",
    "    for word, _ in word_counts:\n",
    "        word_to_idx[word] = len(word_to_idx)\n",
    "    \n",
    "    return word_to_idx\n",
    "\n",
    "# Create vocabulary\n",
    "max_features = 10000  # Maximum number of words to keep based on frequency\n",
    "word_to_idx = build_vocab(X_train, max_features)\n",
    "vocab_size = len(word_to_idx)\n",
    "print(f\"Vocabulary size: {vocab_size}\")\n",
    "\n",
    "# Convert text to sequences\n",
    "def text_to_sequence(text, word_to_idx, max_len=200):\n",
    "    words = text.lower().split()\n",
    "    sequence = [word_to_idx.get(word, word_to_idx['<UNK>']) for word in words]\n",
    "    \n",
    "    # Padding/truncating to fixed length\n",
    "    if len(sequence) < max_len:\n",
    "        sequence += [word_to_idx['<PAD>']] * (max_len - len(sequence))  # Padding\n",
    "    else:\n",
    "        sequence = sequence[:max_len]  # Truncating\n",
    "    \n",
    "    return torch.tensor(sequence, dtype=torch.long)\n",
    "\n",
    "# Calculate sequence lengths for analysis\n",
    "train_lens = [len(text.split()) for text in X_train]\n",
    "print(f\"Average sequence length: {np.mean(train_lens)}\")\n",
    "print(f\"Max sequence length: {np.max(train_lens)}\")\n",
    "print(f\"95th percentile length: {np.percentile(train_lens, 95)}\")\n",
    "\n",
    "# Plot sequence length distribution\n",
    "plt.figure(figsize=(10, 6))\n",
    "plt.hist(train_lens, bins=50)\n",
    "plt.title('Sequence Length Distribution')\n",
    "plt.xlabel('Length')\n",
    "plt.ylabel('Count')\n",
    "plt.show()\n",
    "\n",
    "# Custom dataset for text classification\n",
    "class TextDataset(Dataset):\n",
    "    def __init__(self, texts, labels, word_to_idx, max_len=200):\n",
    "        self.texts = texts\n",
    "        self.labels = labels\n",
    "        self.word_to_idx = word_to_idx\n",
    "        self.max_len = max_len\n",
    "        \n",
    "    def __len__(self):\n",
    "        return len(self.texts)\n",
    "    \n",
    "    def __getitem__(self, idx):\n",
    "        text = self.texts.iloc[idx]\n",
    "        label = self.labels.iloc[idx]\n",
    "        \n",
    "        # Convert text to sequence\n",
    "        sequence = text_to_sequence(text, self.word_to_idx, self.max_len)\n",
    "        \n",
    "        return {\n",
    "            'text': sequence,\n",
    "            'label': torch.tensor(label, dtype=torch.float)\n",
    "        }\n",
    "\n",
    "# Create datasets and data loaders\n",
    "max_len = 200\n",
    "batch_size = 64\n",
    "\n",
    "train_dataset = TextDataset(X_train, y_train, word_to_idx, max_len)\n",
    "test_dataset = TextDataset(X_test, y_test, word_to_idx, max_len)\n",
    "\n",
    "train_loader = DataLoader(train_dataset, batch_size=batch_size, shuffle=True)\n",
    "test_loader = DataLoader(test_dataset, batch_size=batch_size, shuffle=False)\n",
    "\n",
    "# LSTM model\n",
    "class LSTMClassifier(nn.Module):\n",
    "    def __init__(self, vocab_size, embedding_dim, hidden_dim, output_dim, n_layers, bidirectional, dropout):\n",
    "        super().__init__()\n",
    "        \n",
    "        # Embedding layer\n",
    "        self.embedding = nn.Embedding(vocab_size, embedding_dim, padding_idx=0)\n",
    "        \n",
    "        # LSTM layers\n",
    "        self.lstm = nn.LSTM(\n",
    "            embedding_dim, \n",
    "            hidden_dim, \n",
    "            num_layers=n_layers, \n",
    "            bidirectional=bidirectional, \n",
    "            dropout=dropout if n_layers > 1 else 0,\n",
    "            batch_first=True\n",
    "        )\n",
    "        \n",
    "        # Dropout layer\n",
    "        self.dropout = nn.Dropout(dropout)\n",
    "        \n",
    "        # Output layer\n",
    "        # If bidirectional, we have 2 * hidden_dim features\n",
    "        self.fc = nn.Linear(hidden_dim * 2 if bidirectional else hidden_dim, output_dim)\n",
    "        \n",
    "    def forward(self, text):\n",
    "        # text = [batch size, sequence length]\n",
    "        \n",
    "        embedded = self.embedding(text)\n",
    "        # embedded = [batch size, sequence length, embedding dim]\n",
    "        \n",
    "        # LSTM output\n",
    "        output, (hidden, cell) = self.lstm(embedded)\n",
    "        # output = [batch size, sequence length, hidden dim * n directions]\n",
    "        # hidden = [n layers * n directions, batch size, hidden dim]\n",
    "        \n",
    "        if self.lstm.bidirectional:\n",
    "            # Concatenate the final forward and backward hidden states\n",
    "            hidden = torch.cat((hidden[-2,:,:], hidden[-1,:,:]), dim=1)\n",
    "        else:\n",
    "            hidden = hidden[-1,:,:]\n",
    "        # hidden = [batch size, hidden dim * n directions]\n",
    "        \n",
    "        hidden = self.dropout(hidden)\n",
    "        \n",
    "        return self.fc(hidden)\n",
    "\n",
    "# Model parameters\n",
    "embedding_dim = 100\n",
    "hidden_dim = 128\n",
    "output_dim = 1  # Binary classification\n",
    "n_layers = 2\n",
    "bidirectional = True\n",
    "dropout = 0.5\n",
    "\n",
    "# Initialize model\n",
    "device = torch.device('cuda' if torch.cuda.is_available() else 'cpu')\n",
    "print(f\"Using device: {device}\")\n",
    "\n",
    "model = LSTMClassifier(\n",
    "    vocab_size, \n",
    "    embedding_dim, \n",
    "    hidden_dim, \n",
    "    output_dim, \n",
    "    n_layers, \n",
    "    bidirectional, \n",
    "    dropout\n",
    ")\n",
    "model = model.to(device)\n",
    "\n",
    "# Initialize optimizer and loss function\n",
    "optimizer = optim.Adam(model.parameters())\n",
    "criterion = nn.BCEWithLogitsLoss()\n",
    "\n",
    "# Training function\n",
    "def train(model, iterator, optimizer, criterion, device):\n",
    "    model.train()\n",
    "    \n",
    "    epoch_loss = 0\n",
    "    epoch_acc = 0\n",
    "    \n",
    "    for batch in tqdm(iterator, desc=\"Training\"):\n",
    "        # Get the text and labels\n",
    "        text = batch['text'].to(device)\n",
    "        label = batch['label'].to(device)\n",
    "        \n",
    "        # Reset gradients\n",
    "        optimizer.zero_grad()\n",
    "        \n",
    "        # Forward pass\n",
    "        predictions = model(text).squeeze(1)\n",
    "        \n",
    "        # Calculate loss\n",
    "        loss = criterion(predictions, label)\n",
    "        \n",
    "        # Calculate accuracy\n",
    "        predicted_classes = (torch.sigmoid(predictions) > 0.5).float()\n",
    "        correct = (predicted_classes == label).float().sum()\n",
    "        acc = correct / len(label)\n",
    "        \n",
    "        # Backward pass\n",
    "        loss.backward()\n",
    "        \n",
    "        # Update parameters\n",
    "        optimizer.step()\n",
    "        \n",
    "        # Update metrics\n",
    "        epoch_loss += loss.item()\n",
    "        epoch_acc += acc.item()\n",
    "    \n",
    "    return epoch_loss / len(iterator), epoch_acc / len(iterator)\n",
    "\n",
    "# Evaluation function\n",
    "def evaluate(model, iterator, criterion, device):\n",
    "    model.eval()\n",
    "    \n",
    "    epoch_loss = 0\n",
    "    epoch_acc = 0\n",
    "    \n",
    "    with torch.no_grad():\n",
    "        for batch in tqdm(iterator, desc=\"Evaluating\"):\n",
    "            # Get the text and labels\n",
    "            text = batch['text'].to(device)\n",
    "            label = batch['label'].to(device)\n",
    "            \n",
    "            # Forward pass\n",
    "            predictions = model(text).squeeze(1)\n",
    "            \n",
    "            # Calculate loss\n",
    "            loss = criterion(predictions, label)\n",
    "            \n",
    "            # Calculate accuracy\n",
    "            predicted_classes = (torch.sigmoid(predictions) > 0.5).float()\n",
    "            correct = (predicted_classes == label).float().sum()\n",
    "            acc = correct / len(label)\n",
    "            \n",
    "            # Update metrics\n",
    "            epoch_loss += loss.item()\n",
    "            epoch_acc += acc.item()\n",
    "    \n",
    "    return epoch_loss / len(iterator), epoch_acc / len(iterator)\n",
    "\n",
    "# Training loop\n",
    "n_epochs = 50\n",
    "best_val_loss = float('-inf')\n",
    "\n",
    "train_losses = []\n",
    "train_accs = []\n",
    "val_losses = []\n",
    "val_accs = []\n",
    "\n",
    "for epoch in range(n_epochs):\n",
    "    print(f\"\\nEpoch {epoch+1}/{n_epochs}\")\n",
    "    \n",
    "    # Training\n",
    "    train_loss, train_acc = train(model, train_loader, optimizer, criterion, device)\n",
    "    train_losses.append(train_loss)\n",
    "    train_accs.append(train_acc)\n",
    "    \n",
    "    # Evaluation\n",
    "    val_loss, val_acc = evaluate(model, test_loader, criterion, device)\n",
    "    val_losses.append(val_loss)\n",
    "    val_accs.append(val_acc)\n",
    "    \n",
    "    print(f\"\\tTrain Loss: {train_loss:.4f} | Train Acc: {train_acc*100:.2f}%\")\n",
    "    print(f\"\\tVal. Loss: {val_loss:.4f} | Val. Acc: {val_acc*100:.2f}%\")\n",
    "    \n",
    "    # Save best model\n",
    "    if val_acc > best_val_loss:\n",
    "        best_val_loss = val_acc\n",
    "        torch.save(model.state_dict(), 'best_lstm_model.pt')\n",
    "        print(f\"\\tBest validation accuracy: {best_val_loss:.4f}\")\n",
    "\n",
    "# Plot training history\n",
    "plt.figure(figsize=(12, 5))\n",
    "plt.subplot(1, 2, 1)\n",
    "plt.plot(train_losses, label='Train Loss')\n",
    "plt.plot(val_losses, label='Validation Loss')\n",
    "plt.title('Loss')\n",
    "plt.xlabel('Epoch')\n",
    "plt.ylabel('Loss')\n",
    "plt.legend()\n",
    "\n",
    "plt.subplot(1, 2, 2)\n",
    "plt.plot(train_accs, label='Train Accuracy')\n",
    "plt.plot(val_accs, label='Validation Accuracy')\n",
    "plt.title('Accuracy')\n",
    "plt.xlabel('Epoch')\n",
    "plt.ylabel('Accuracy')\n",
    "plt.legend()\n",
    "\n",
    "plt.tight_layout()\n",
    "plt.show()\n",
    "\n",
    "# Load best model\n",
    "model.load_state_dict(torch.load('best_lstm_model.pt'))\n",
    "\n",
    "# Final evaluation on test set\n",
    "test_loss, test_acc = evaluate(model, test_loader, criterion, device)\n",
    "print(f\"Test Loss: {test_loss:.4f} | Test Acc: {test_acc*100:.2f}%\")\n",
    "\n",
    "# Get predictions for classification report\n",
    "y_pred = []\n",
    "y_true = []\n",
    "\n",
    "model.eval()\n",
    "with torch.no_grad():\n",
    "    for batch in test_loader:\n",
    "        text = batch['text'].to(device)\n",
    "        label = batch['label'].to(device)\n",
    "        \n",
    "        predictions = model(text).squeeze(1)\n",
    "        predicted_classes = (torch.sigmoid(predictions) > 0.5).float()\n",
    "        \n",
    "        y_pred.extend(predicted_classes.cpu().numpy())\n",
    "        y_true.extend(label.cpu().numpy())\n",
    "\n",
    "# Print classification report\n",
    "print(\"\\nClassification Report:\")\n",
    "print(classification_report(y_true, y_pred))\n",
    "\n",
    "# Plot confusion matrix\n",
    "cm = confusion_matrix(y_true, y_pred)\n",
    "plt.figure(figsize=(8, 6))\n",
    "sns.heatmap(cm, annot=True, fmt='d', cmap='Blues')\n",
    "plt.title('Confusion Matrix')\n",
    "plt.ylabel('Actual')\n",
    "plt.xlabel('Predicted')\n",
    "plt.show()\n",
    "\n",
    "# Save vocabulary and model\n",
    "with open('word_to_idx.pkl', 'wb') as f:\n",
    "    pickle.dump(word_to_idx, f)\n",
    "\n",
    "# Function to make predictions on new text\n",
    "def predict_fake_news(text, model, word_to_idx, max_len=200):\n",
    "    model.eval()\n",
    "    sequence = text_to_sequence(text, word_to_idx, max_len)\n",
    "    sequence = sequence.unsqueeze(0).to(device)  # Add batch dimension\n",
    "    \n",
    "    with torch.no_grad():\n",
    "        prediction = model(sequence).squeeze(1)\n",
    "        probability = torch.sigmoid(prediction).item()\n",
    "    \n",
    "    return probability, \"FAKE\" if probability > 0.5 else \"REAL\"\n",
    "\n",
    "# Test the model with some examples\n",
    "test_examples = [\n",
    "    X_test.iloc[0],  # A test example\n",
    "    \"This is a completely fabricated story with false information\",\n",
    "    \"Scientists discover new evidence supporting established theories\"\n",
    "]\n",
    "\n",
    "for text in test_examples:\n",
    "    probability, prediction = predict_fake_news(text, model, word_to_idx)\n",
    "    print(f\"\\nText: {text[:100]}...\")\n",
    "    print(f\"Prediction: {prediction}\")\n",
    "    print(f\"Probability of being fake: {probability:.4f}\")"
   ]
  },
  {
   "cell_type": "code",
   "execution_count": 2,
   "id": "35bf1031",
   "metadata": {},
   "outputs": [
    {
     "data": {
      "text/plain": [
       "2.8184547424316406"
      ]
     },
     "execution_count": 2,
     "metadata": {},
     "output_type": "execute_result"
    }
   ],
   "source": [
    "import torch\n",
    "\n",
    "def get_gpu_memory_usage(model):\n",
    "    \"\"\"\n",
    "    Calculate the GPU memory usage of a PyTorch model in MB.\n",
    "    \"\"\"\n",
    "    if torch.cuda.is_available():\n",
    "        gpu_memory = sum(p.numel() * p.element_size() for p in model.parameters()) / (1024 ** 2)\n",
    "        return gpu_memory\n",
    "    else:\n",
    "        return 0\n",
    "# Calculate the GPU memory usage of the model\n",
    "gpu_memory_usage = get_gpu_memory_usage(model)\n",
    "gpu_memory_usage"
   ]
  },
  {
   "cell_type": "code",
   "execution_count": null,
   "id": "7c719c24",
   "metadata": {},
   "outputs": [],
   "source": []
  }
 ],
 "metadata": {
  "kernelspec": {
   "display_name": "Python 3",
   "language": "python",
   "name": "python3"
  },
  "language_info": {
   "codemirror_mode": {
    "name": "ipython",
    "version": 3
   },
   "file_extension": ".py",
   "mimetype": "text/x-python",
   "name": "python",
   "nbconvert_exporter": "python",
   "pygments_lexer": "ipython3",
   "version": "3.10.12"
  }
 },
 "nbformat": 4,
 "nbformat_minor": 5
}
