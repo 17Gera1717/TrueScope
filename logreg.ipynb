{
 "cells": [
  {
   "cell_type": "code",
   "execution_count": 1,
   "id": "fb05f3da",
   "metadata": {},
   "outputs": [
    {
     "name": "stdout",
     "output_type": "stream",
     "text": [
      "              precision    recall  f1-score   support\n",
      "\n",
      "           0       0.93      1.00      0.96        40\n",
      "           1       1.00      0.88      0.94        26\n",
      "\n",
      "    accuracy                           0.95        66\n",
      "   macro avg       0.97      0.94      0.95        66\n",
      "weighted avg       0.96      0.95      0.95        66\n",
      "\n"
     ]
    }
   ],
   "source": [
    "import pandas as pd\n",
    "from sklearn.feature_extraction.text import TfidfVectorizer\n",
    "from sklearn.linear_model import LogisticRegression\n",
    "from sklearn.model_selection import train_test_split\n",
    "from sklearn.metrics import classification_report\n",
    "import joblib\n",
    "\n",
    "\n",
    "df = pd.read_csv(\"Dataset_With_Core_Fake_Claim_Formatted.csv\")\n",
    "\n",
    "texts = []\n",
    "labels = []\n",
    "\n",
    "for _, row in df.iterrows():\n",
    "    fake = str(row.get(\"CORE_FAKE_CLAIM\", \"\")).strip()\n",
    "    real = str(row.get(\"REAL_TEXT\", \"\")).strip()\n",
    "    type_ = str(row.get(\"TYPE\", \"\")).strip().lower()\n",
    "\n",
    "    if fake and type_ == \"fake_pair\":\n",
    "        texts.append(fake)\n",
    "        labels.append(1)\n",
    "    if real:\n",
    "        texts.append(real)\n",
    "        labels.append(0)\n",
    "\n",
    "\n",
    "X_train, X_test, y_train, y_test = train_test_split(texts, labels, test_size=0.2, random_state=42)\n",
    "\n",
    "# === 3. Векторизация текста ===\n",
    "vectorizer = TfidfVectorizer(max_features=5000)\n",
    "X_train_vec = vectorizer.fit_transform(X_train)\n",
    "X_test_vec = vectorizer.transform(X_test)\n",
    "\n",
    "\n",
    "model = LogisticRegression(max_iter=200, class_weight='balanced')\n",
    "model.fit(X_train_vec, y_train)\n",
    "\n",
    "\n",
    "y_pred = model.predict(X_test_vec)\n",
    "print(classification_report(y_test, y_pred))\n"
   ]
  },
  {
   "cell_type": "code",
   "execution_count": 2,
   "id": "e4de9e4a",
   "metadata": {},
   "outputs": [
    {
     "name": "stdout",
     "output_type": "stream",
     "text": [
      "Accuracy: 0.9545\n"
     ]
    }
   ],
   "source": [
    "### Accuracy\n",
    "accuracy = model.score(X_test_vec, y_test)\n",
    "print(f\"Accuracy: {accuracy:.4f}\")"
   ]
  },
  {
   "cell_type": "code",
   "execution_count": null,
   "id": "3f99b555",
   "metadata": {},
   "outputs": [],
   "source": []
  }
 ],
 "metadata": {
  "kernelspec": {
   "display_name": "Python 3",
   "language": "python",
   "name": "python3"
  },
  "language_info": {
   "codemirror_mode": {
    "name": "ipython",
    "version": 3
   },
   "file_extension": ".py",
   "mimetype": "text/x-python",
   "name": "python",
   "nbconvert_exporter": "python",
   "pygments_lexer": "ipython3",
   "version": "3.10.12"
  }
 },
 "nbformat": 4,
 "nbformat_minor": 5
}
